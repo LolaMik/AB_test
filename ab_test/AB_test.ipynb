{
 "cells": [
  {
   "cell_type": "markdown",
   "id": "04f22ab0",
   "metadata": {},
   "source": [
    "# Принятие решений в бизнесе"
   ]
  },
  {
   "cell_type": "markdown",
   "id": "9a1022ad",
   "metadata": {},
   "source": [
    "## Данные."
   ]
  },
  {
   "cell_type": "code",
   "execution_count": 1,
   "id": "bde6f23b",
   "metadata": {},
   "outputs": [],
   "source": [
    "import pandas as pd\n",
    "import numpy as np\n",
    "import datetime as dt\n",
    "import matplotlib.pyplot as plt\n",
    "import scipy.stats as stats"
   ]
  },
  {
   "cell_type": "code",
   "execution_count": 2,
   "id": "a16addb5",
   "metadata": {},
   "outputs": [],
   "source": [
    "hypothesis = pd.read_csv('hypothesis.csv')\n",
    "orders = pd.read_csv('orders.csv')\n",
    "visitors = pd.read_csv('visitors.csv')"
   ]
  },
  {
   "cell_type": "code",
   "execution_count": 3,
   "id": "4fa9c461",
   "metadata": {},
   "outputs": [
    {
     "data": {
      "text/html": [
       "<div>\n",
       "<style scoped>\n",
       "    .dataframe tbody tr th:only-of-type {\n",
       "        vertical-align: middle;\n",
       "    }\n",
       "\n",
       "    .dataframe tbody tr th {\n",
       "        vertical-align: top;\n",
       "    }\n",
       "\n",
       "    .dataframe thead th {\n",
       "        text-align: right;\n",
       "    }\n",
       "</style>\n",
       "<table border=\"1\" class=\"dataframe\">\n",
       "  <thead>\n",
       "    <tr style=\"text-align: right;\">\n",
       "      <th></th>\n",
       "      <th>Hypothesis</th>\n",
       "      <th>Reach</th>\n",
       "      <th>Impact</th>\n",
       "      <th>Confidence</th>\n",
       "      <th>Efforts</th>\n",
       "    </tr>\n",
       "  </thead>\n",
       "  <tbody>\n",
       "    <tr>\n",
       "      <th>0</th>\n",
       "      <td>Добавить два новых канала привлечения трафика,...</td>\n",
       "      <td>3</td>\n",
       "      <td>10</td>\n",
       "      <td>8</td>\n",
       "      <td>6</td>\n",
       "    </tr>\n",
       "    <tr>\n",
       "      <th>1</th>\n",
       "      <td>Запустить собственную службу доставки, что сок...</td>\n",
       "      <td>2</td>\n",
       "      <td>5</td>\n",
       "      <td>4</td>\n",
       "      <td>10</td>\n",
       "    </tr>\n",
       "    <tr>\n",
       "      <th>2</th>\n",
       "      <td>Добавить блоки рекомендаций товаров на сайт ин...</td>\n",
       "      <td>8</td>\n",
       "      <td>3</td>\n",
       "      <td>7</td>\n",
       "      <td>3</td>\n",
       "    </tr>\n",
       "    <tr>\n",
       "      <th>3</th>\n",
       "      <td>Изменить структура категорий, что увеличит кон...</td>\n",
       "      <td>8</td>\n",
       "      <td>3</td>\n",
       "      <td>3</td>\n",
       "      <td>8</td>\n",
       "    </tr>\n",
       "    <tr>\n",
       "      <th>4</th>\n",
       "      <td>Изменить цвет фона главной страницы, чтобы уве...</td>\n",
       "      <td>3</td>\n",
       "      <td>1</td>\n",
       "      <td>1</td>\n",
       "      <td>1</td>\n",
       "    </tr>\n",
       "    <tr>\n",
       "      <th>5</th>\n",
       "      <td>Добавить страницу отзывов клиентов о магазине,...</td>\n",
       "      <td>3</td>\n",
       "      <td>2</td>\n",
       "      <td>2</td>\n",
       "      <td>3</td>\n",
       "    </tr>\n",
       "    <tr>\n",
       "      <th>6</th>\n",
       "      <td>Показать на главной странице баннеры с актуаль...</td>\n",
       "      <td>5</td>\n",
       "      <td>3</td>\n",
       "      <td>8</td>\n",
       "      <td>3</td>\n",
       "    </tr>\n",
       "    <tr>\n",
       "      <th>7</th>\n",
       "      <td>Добавить форму подписки на все основные страни...</td>\n",
       "      <td>10</td>\n",
       "      <td>7</td>\n",
       "      <td>8</td>\n",
       "      <td>5</td>\n",
       "    </tr>\n",
       "    <tr>\n",
       "      <th>8</th>\n",
       "      <td>Запустить акцию, дающую скидку на товар в день...</td>\n",
       "      <td>1</td>\n",
       "      <td>9</td>\n",
       "      <td>9</td>\n",
       "      <td>5</td>\n",
       "    </tr>\n",
       "  </tbody>\n",
       "</table>\n",
       "</div>"
      ],
      "text/plain": [
       "                                          Hypothesis  Reach  Impact  \\\n",
       "0  Добавить два новых канала привлечения трафика,...      3      10   \n",
       "1  Запустить собственную службу доставки, что сок...      2       5   \n",
       "2  Добавить блоки рекомендаций товаров на сайт ин...      8       3   \n",
       "3  Изменить структура категорий, что увеличит кон...      8       3   \n",
       "4  Изменить цвет фона главной страницы, чтобы уве...      3       1   \n",
       "5  Добавить страницу отзывов клиентов о магазине,...      3       2   \n",
       "6  Показать на главной странице баннеры с актуаль...      5       3   \n",
       "7  Добавить форму подписки на все основные страни...     10       7   \n",
       "8  Запустить акцию, дающую скидку на товар в день...      1       9   \n",
       "\n",
       "   Confidence  Efforts  \n",
       "0           8        6  \n",
       "1           4       10  \n",
       "2           7        3  \n",
       "3           3        8  \n",
       "4           1        1  \n",
       "5           2        3  \n",
       "6           8        3  \n",
       "7           8        5  \n",
       "8           9        5  "
      ]
     },
     "execution_count": 3,
     "metadata": {},
     "output_type": "execute_result"
    }
   ],
   "source": [
    "hypothesis"
   ]
  },
  {
   "cell_type": "code",
   "execution_count": 4,
   "id": "1093ab70",
   "metadata": {},
   "outputs": [],
   "source": [
    "hypothesis.columns = hypothesis.columns.str.lower().str.replace(' ', '_')"
   ]
  },
  {
   "cell_type": "code",
   "execution_count": 5,
   "id": "706f5138",
   "metadata": {},
   "outputs": [
    {
     "name": "stdout",
     "output_type": "stream",
     "text": [
      "<class 'pandas.core.frame.DataFrame'>\n",
      "RangeIndex: 9 entries, 0 to 8\n",
      "Data columns (total 5 columns):\n",
      " #   Column      Non-Null Count  Dtype \n",
      "---  ------      --------------  ----- \n",
      " 0   hypothesis  9 non-null      object\n",
      " 1   reach       9 non-null      int64 \n",
      " 2   impact      9 non-null      int64 \n",
      " 3   confidence  9 non-null      int64 \n",
      " 4   efforts     9 non-null      int64 \n",
      "dtypes: int64(4), object(1)\n",
      "memory usage: 488.0+ bytes\n"
     ]
    }
   ],
   "source": [
    "hypothesis.info()"
   ]
  },
  {
   "cell_type": "code",
   "execution_count": 6,
   "id": "6b3f7f86",
   "metadata": {},
   "outputs": [
    {
     "data": {
      "text/html": [
       "<div>\n",
       "<style scoped>\n",
       "    .dataframe tbody tr th:only-of-type {\n",
       "        vertical-align: middle;\n",
       "    }\n",
       "\n",
       "    .dataframe tbody tr th {\n",
       "        vertical-align: top;\n",
       "    }\n",
       "\n",
       "    .dataframe thead th {\n",
       "        text-align: right;\n",
       "    }\n",
       "</style>\n",
       "<table border=\"1\" class=\"dataframe\">\n",
       "  <thead>\n",
       "    <tr style=\"text-align: right;\">\n",
       "      <th></th>\n",
       "      <th>transactionId</th>\n",
       "      <th>visitorId</th>\n",
       "      <th>date</th>\n",
       "      <th>revenue</th>\n",
       "      <th>group</th>\n",
       "    </tr>\n",
       "  </thead>\n",
       "  <tbody>\n",
       "    <tr>\n",
       "      <th>0</th>\n",
       "      <td>3667963787</td>\n",
       "      <td>3312258926</td>\n",
       "      <td>2019-08-15</td>\n",
       "      <td>1650</td>\n",
       "      <td>B</td>\n",
       "    </tr>\n",
       "    <tr>\n",
       "      <th>1</th>\n",
       "      <td>2804400009</td>\n",
       "      <td>3642806036</td>\n",
       "      <td>2019-08-15</td>\n",
       "      <td>730</td>\n",
       "      <td>B</td>\n",
       "    </tr>\n",
       "    <tr>\n",
       "      <th>2</th>\n",
       "      <td>2961555356</td>\n",
       "      <td>4069496402</td>\n",
       "      <td>2019-08-15</td>\n",
       "      <td>400</td>\n",
       "      <td>A</td>\n",
       "    </tr>\n",
       "    <tr>\n",
       "      <th>3</th>\n",
       "      <td>3797467345</td>\n",
       "      <td>1196621759</td>\n",
       "      <td>2019-08-15</td>\n",
       "      <td>9759</td>\n",
       "      <td>B</td>\n",
       "    </tr>\n",
       "    <tr>\n",
       "      <th>4</th>\n",
       "      <td>2282983706</td>\n",
       "      <td>2322279887</td>\n",
       "      <td>2019-08-15</td>\n",
       "      <td>2308</td>\n",
       "      <td>B</td>\n",
       "    </tr>\n",
       "  </tbody>\n",
       "</table>\n",
       "</div>"
      ],
      "text/plain": [
       "   transactionId   visitorId        date  revenue group\n",
       "0     3667963787  3312258926  2019-08-15     1650     B\n",
       "1     2804400009  3642806036  2019-08-15      730     B\n",
       "2     2961555356  4069496402  2019-08-15      400     A\n",
       "3     3797467345  1196621759  2019-08-15     9759     B\n",
       "4     2282983706  2322279887  2019-08-15     2308     B"
      ]
     },
     "execution_count": 6,
     "metadata": {},
     "output_type": "execute_result"
    }
   ],
   "source": [
    "orders.head(5)"
   ]
  },
  {
   "cell_type": "code",
   "execution_count": 7,
   "id": "efe9ac54",
   "metadata": {},
   "outputs": [],
   "source": [
    "orders.set_axis(['transaction_id', 'visitor_id','date', 'revenue', 'group'],axis = 'columns', inplace = True)"
   ]
  },
  {
   "cell_type": "code",
   "execution_count": 8,
   "id": "38cf2669",
   "metadata": {},
   "outputs": [
    {
     "data": {
      "text/html": [
       "<div>\n",
       "<style scoped>\n",
       "    .dataframe tbody tr th:only-of-type {\n",
       "        vertical-align: middle;\n",
       "    }\n",
       "\n",
       "    .dataframe tbody tr th {\n",
       "        vertical-align: top;\n",
       "    }\n",
       "\n",
       "    .dataframe thead th {\n",
       "        text-align: right;\n",
       "    }\n",
       "</style>\n",
       "<table border=\"1\" class=\"dataframe\">\n",
       "  <thead>\n",
       "    <tr style=\"text-align: right;\">\n",
       "      <th></th>\n",
       "      <th>date</th>\n",
       "      <th>group</th>\n",
       "      <th>visitors</th>\n",
       "    </tr>\n",
       "  </thead>\n",
       "  <tbody>\n",
       "    <tr>\n",
       "      <th>0</th>\n",
       "      <td>2019-08-01</td>\n",
       "      <td>A</td>\n",
       "      <td>719</td>\n",
       "    </tr>\n",
       "    <tr>\n",
       "      <th>1</th>\n",
       "      <td>2019-08-02</td>\n",
       "      <td>A</td>\n",
       "      <td>619</td>\n",
       "    </tr>\n",
       "    <tr>\n",
       "      <th>2</th>\n",
       "      <td>2019-08-03</td>\n",
       "      <td>A</td>\n",
       "      <td>507</td>\n",
       "    </tr>\n",
       "    <tr>\n",
       "      <th>3</th>\n",
       "      <td>2019-08-04</td>\n",
       "      <td>A</td>\n",
       "      <td>717</td>\n",
       "    </tr>\n",
       "    <tr>\n",
       "      <th>4</th>\n",
       "      <td>2019-08-05</td>\n",
       "      <td>A</td>\n",
       "      <td>756</td>\n",
       "    </tr>\n",
       "  </tbody>\n",
       "</table>\n",
       "</div>"
      ],
      "text/plain": [
       "         date group  visitors\n",
       "0  2019-08-01     A       719\n",
       "1  2019-08-02     A       619\n",
       "2  2019-08-03     A       507\n",
       "3  2019-08-04     A       717\n",
       "4  2019-08-05     A       756"
      ]
     },
     "execution_count": 8,
     "metadata": {},
     "output_type": "execute_result"
    }
   ],
   "source": [
    "visitors.head(5)"
   ]
  },
  {
   "cell_type": "code",
   "execution_count": 9,
   "id": "65dca3bd",
   "metadata": {},
   "outputs": [
    {
     "name": "stdout",
     "output_type": "stream",
     "text": [
      "<class 'pandas.core.frame.DataFrame'>\n",
      "RangeIndex: 62 entries, 0 to 61\n",
      "Data columns (total 3 columns):\n",
      " #   Column    Non-Null Count  Dtype \n",
      "---  ------    --------------  ----- \n",
      " 0   date      62 non-null     object\n",
      " 1   group     62 non-null     object\n",
      " 2   visitors  62 non-null     int64 \n",
      "dtypes: int64(1), object(2)\n",
      "memory usage: 1.6+ KB\n"
     ]
    }
   ],
   "source": [
    "visitors.info()"
   ]
  },
  {
   "cell_type": "code",
   "execution_count": 10,
   "id": "169d3e65",
   "metadata": {},
   "outputs": [],
   "source": [
    "visitors['date'] = visitors['date'].map(lambda x: dt.datetime.strptime(x, '%Y-%m-%d'))"
   ]
  },
  {
   "cell_type": "code",
   "execution_count": 11,
   "id": "26270431",
   "metadata": {},
   "outputs": [
    {
     "name": "stdout",
     "output_type": "stream",
     "text": [
      "<class 'pandas.core.frame.DataFrame'>\n",
      "RangeIndex: 1197 entries, 0 to 1196\n",
      "Data columns (total 5 columns):\n",
      " #   Column          Non-Null Count  Dtype \n",
      "---  ------          --------------  ----- \n",
      " 0   transaction_id  1197 non-null   int64 \n",
      " 1   visitor_id      1197 non-null   int64 \n",
      " 2   date            1197 non-null   object\n",
      " 3   revenue         1197 non-null   int64 \n",
      " 4   group           1197 non-null   object\n",
      "dtypes: int64(3), object(2)\n",
      "memory usage: 46.9+ KB\n"
     ]
    }
   ],
   "source": [
    "orders.info()"
   ]
  },
  {
   "cell_type": "code",
   "execution_count": 12,
   "id": "06879d26",
   "metadata": {},
   "outputs": [],
   "source": [
    "orders['date'] = orders['date'].map(lambda x: dt.datetime.strptime(x, '%Y-%m-%d'))"
   ]
  },
  {
   "cell_type": "code",
   "execution_count": 13,
   "id": "ceb060d5",
   "metadata": {},
   "outputs": [
    {
     "name": "stdout",
     "output_type": "stream",
     "text": [
      "Дубликатов:  0\n"
     ]
    }
   ],
   "source": [
    "print('Дубликатов: ', hypothesis.duplicated().sum())"
   ]
  },
  {
   "cell_type": "code",
   "execution_count": 14,
   "id": "f99269db",
   "metadata": {},
   "outputs": [
    {
     "name": "stdout",
     "output_type": "stream",
     "text": [
      "Дубликатов:  0\n"
     ]
    }
   ],
   "source": [
    "print('Дубликатов: ', orders.duplicated().sum())"
   ]
  },
  {
   "cell_type": "code",
   "execution_count": 15,
   "id": "c3799d62",
   "metadata": {},
   "outputs": [
    {
     "name": "stdout",
     "output_type": "stream",
     "text": [
      "Дубликатов:  0\n"
     ]
    }
   ],
   "source": [
    "print('Дубликатов: ', visitors.duplicated().sum())"
   ]
  },
  {
   "cell_type": "markdown",
   "id": "19c3f37f",
   "metadata": {},
   "source": [
    "## Приоритизация гипотез."
   ]
  },
  {
   "cell_type": "markdown",
   "id": "075f91b9",
   "metadata": {},
   "source": [
    "### Фреймворк ICE для приоритизации гипотез"
   ]
  },
  {
   "cell_type": "code",
   "execution_count": 16,
   "id": "559f670f",
   "metadata": {},
   "outputs": [
    {
     "name": "stdout",
     "output_type": "stream",
     "text": [
      "                                          hypothesis        ICE\n",
      "8  Запустить акцию, дающую скидку на товар в день...  16.200000\n",
      "0  Добавить два новых канала привлечения трафика,...  13.333333\n",
      "7  Добавить форму подписки на все основные страни...  11.200000\n",
      "6  Показать на главной странице баннеры с актуаль...   8.000000\n",
      "2  Добавить блоки рекомендаций товаров на сайт ин...   7.000000\n",
      "1  Запустить собственную службу доставки, что сок...   2.000000\n",
      "5  Добавить страницу отзывов клиентов о магазине,...   1.333333\n",
      "3  Изменить структура категорий, что увеличит кон...   1.125000\n",
      "4  Изменить цвет фона главной страницы, чтобы уве...   1.000000\n"
     ]
    }
   ],
   "source": [
    "hypothesis['ICE'] = (hypothesis['impact']* hypothesis['confidence']) / hypothesis['efforts']\n",
    "print(hypothesis.loc[:, ['hypothesis', 'ICE']].sort_values(by = 'ICE', ascending=False))"
   ]
  },
  {
   "cell_type": "markdown",
   "id": "bf11433b",
   "metadata": {},
   "source": [
    "Наиболее перспективны гипотезы 8, 0, 7 и 11."
   ]
  },
  {
   "cell_type": "markdown",
   "id": "8a90158f",
   "metadata": {},
   "source": [
    "### Фреймворк RICE для приоритизации гипотез"
   ]
  },
  {
   "cell_type": "code",
   "execution_count": 17,
   "id": "7d780320",
   "metadata": {},
   "outputs": [
    {
     "name": "stdout",
     "output_type": "stream",
     "text": [
      "                                          hypothesis   RICE\n",
      "7  Добавить форму подписки на все основные страни...  112.0\n",
      "2  Добавить блоки рекомендаций товаров на сайт ин...   56.0\n",
      "0  Добавить два новых канала привлечения трафика,...   40.0\n",
      "6  Показать на главной странице баннеры с актуаль...   40.0\n",
      "8  Запустить акцию, дающую скидку на товар в день...   16.2\n",
      "3  Изменить структура категорий, что увеличит кон...    9.0\n",
      "1  Запустить собственную службу доставки, что сок...    4.0\n",
      "5  Добавить страницу отзывов клиентов о магазине,...    4.0\n",
      "4  Изменить цвет фона главной страницы, чтобы уве...    3.0\n"
     ]
    }
   ],
   "source": [
    "hypothesis['RICE'] = (hypothesis['reach'] *hypothesis['impact']* hypothesis['confidence']) / hypothesis['efforts']\n",
    "print(hypothesis.loc[:, ['hypothesis', 'RICE']].sort_values(by = 'RICE', ascending=False))"
   ]
  },
  {
   "cell_type": "markdown",
   "id": "b89a147a",
   "metadata": {},
   "source": [
    "Гипотезы 7, 2, 0 и 6. Их параметр Reach выше, чем у других. "
   ]
  },
  {
   "cell_type": "code",
   "execution_count": 18,
   "id": "1a7f8c88",
   "metadata": {},
   "outputs": [
    {
     "data": {
      "text/html": [
       "<style  type=\"text/css\" >\n",
       "#T_37cd0_row0_col1,#T_37cd0_row0_col2{\n",
       "            width:  10em;\n",
       "             height:  80%;\n",
       "            background:  linear-gradient(90deg,pink 14.5%, transparent 14.5%);\n",
       "            text-aling:  center;\n",
       "        }#T_37cd0_row1_col1{\n",
       "            width:  10em;\n",
       "             height:  80%;\n",
       "            background:  linear-gradient(90deg,pink 11.9%, transparent 11.9%);\n",
       "            text-aling:  center;\n",
       "        }#T_37cd0_row1_col2,#T_37cd0_row3_col2{\n",
       "            width:  10em;\n",
       "             height:  80%;\n",
       "            background:  linear-gradient(90deg,pink 35.7%, transparent 35.7%);\n",
       "            text-aling:  center;\n",
       "        }#T_37cd0_row2_col1{\n",
       "            width:  10em;\n",
       "             height:  80%;\n",
       "            background:  linear-gradient(90deg,pink 10.0%, transparent 10.0%);\n",
       "            text-aling:  center;\n",
       "        }#T_37cd0_row2_col2{\n",
       "            width:  10em;\n",
       "             height:  80%;\n",
       "            background:  linear-gradient(90deg,pink 100.0%, transparent 100.0%);\n",
       "            text-aling:  center;\n",
       "        }#T_37cd0_row3_col1{\n",
       "            width:  10em;\n",
       "             height:  80%;\n",
       "            background:  linear-gradient(90deg,pink 7.1%, transparent 7.1%);\n",
       "            text-aling:  center;\n",
       "        }#T_37cd0_row4_col1{\n",
       "            width:  10em;\n",
       "             height:  80%;\n",
       "            background:  linear-gradient(90deg,pink 6.2%, transparent 6.2%);\n",
       "            text-aling:  center;\n",
       "        }#T_37cd0_row4_col2{\n",
       "            width:  10em;\n",
       "             height:  80%;\n",
       "            background:  linear-gradient(90deg,pink 50.0%, transparent 50.0%);\n",
       "            text-aling:  center;\n",
       "        }#T_37cd0_row5_col1{\n",
       "            width:  10em;\n",
       "             height:  80%;\n",
       "            background:  linear-gradient(90deg,pink 1.8%, transparent 1.8%);\n",
       "            text-aling:  center;\n",
       "        }#T_37cd0_row5_col2,#T_37cd0_row6_col2{\n",
       "            width:  10em;\n",
       "             height:  80%;\n",
       "            background:  linear-gradient(90deg,pink 3.6%, transparent 3.6%);\n",
       "            text-aling:  center;\n",
       "        }#T_37cd0_row6_col1{\n",
       "            width:  10em;\n",
       "             height:  80%;\n",
       "            background:  linear-gradient(90deg,pink 1.2%, transparent 1.2%);\n",
       "            text-aling:  center;\n",
       "        }#T_37cd0_row7_col1{\n",
       "            width:  10em;\n",
       "             height:  80%;\n",
       "            background:  linear-gradient(90deg,pink 1.0%, transparent 1.0%);\n",
       "            text-aling:  center;\n",
       "        }#T_37cd0_row7_col2{\n",
       "            width:  10em;\n",
       "             height:  80%;\n",
       "            background:  linear-gradient(90deg,pink 8.0%, transparent 8.0%);\n",
       "            text-aling:  center;\n",
       "        }#T_37cd0_row8_col1{\n",
       "            width:  10em;\n",
       "             height:  80%;\n",
       "            background:  linear-gradient(90deg,pink 0.9%, transparent 0.9%);\n",
       "            text-aling:  center;\n",
       "        }#T_37cd0_row8_col2{\n",
       "            width:  10em;\n",
       "             height:  80%;\n",
       "            background:  linear-gradient(90deg,pink 2.7%, transparent 2.7%);\n",
       "            text-aling:  center;\n",
       "        }</style><table id=\"T_37cd0_\" ><thead>    <tr>        <th class=\"blank level0\" ></th>        <th class=\"col_heading level0 col0\" >hypothesis</th>        <th class=\"col_heading level0 col1\" >ICE</th>        <th class=\"col_heading level0 col2\" >RICE</th>    </tr></thead><tbody>\n",
       "                <tr>\n",
       "                        <th id=\"T_37cd0_level0_row0\" class=\"row_heading level0 row0\" >0</th>\n",
       "                        <td id=\"T_37cd0_row0_col0\" class=\"data row0 col0\" >Запустить акцию, дающую скидку на товар в день рождения</td>\n",
       "                        <td id=\"T_37cd0_row0_col1\" class=\"data row0 col1\" >16.20</td>\n",
       "                        <td id=\"T_37cd0_row0_col2\" class=\"data row0 col2\" >16.20</td>\n",
       "            </tr>\n",
       "            <tr>\n",
       "                        <th id=\"T_37cd0_level0_row1\" class=\"row_heading level0 row1\" >1</th>\n",
       "                        <td id=\"T_37cd0_row1_col0\" class=\"data row1 col0\" >Добавить два новых канала привлечения трафика, что позволит привлекать на 30% больше пользователей</td>\n",
       "                        <td id=\"T_37cd0_row1_col1\" class=\"data row1 col1\" >13.33</td>\n",
       "                        <td id=\"T_37cd0_row1_col2\" class=\"data row1 col2\" >40.00</td>\n",
       "            </tr>\n",
       "            <tr>\n",
       "                        <th id=\"T_37cd0_level0_row2\" class=\"row_heading level0 row2\" >2</th>\n",
       "                        <td id=\"T_37cd0_row2_col0\" class=\"data row2 col0\" >Добавить форму подписки на все основные страницы, чтобы собрать базу клиентов для email-рассылок</td>\n",
       "                        <td id=\"T_37cd0_row2_col1\" class=\"data row2 col1\" >11.20</td>\n",
       "                        <td id=\"T_37cd0_row2_col2\" class=\"data row2 col2\" >112.00</td>\n",
       "            </tr>\n",
       "            <tr>\n",
       "                        <th id=\"T_37cd0_level0_row3\" class=\"row_heading level0 row3\" >3</th>\n",
       "                        <td id=\"T_37cd0_row3_col0\" class=\"data row3 col0\" >Показать на главной странице баннеры с актуальными акциями и распродажами, чтобы увеличить конверсию</td>\n",
       "                        <td id=\"T_37cd0_row3_col1\" class=\"data row3 col1\" >8.00</td>\n",
       "                        <td id=\"T_37cd0_row3_col2\" class=\"data row3 col2\" >40.00</td>\n",
       "            </tr>\n",
       "            <tr>\n",
       "                        <th id=\"T_37cd0_level0_row4\" class=\"row_heading level0 row4\" >4</th>\n",
       "                        <td id=\"T_37cd0_row4_col0\" class=\"data row4 col0\" >Добавить блоки рекомендаций товаров на сайт интернет магазина, чтобы повысить конверсию и средний чек заказа</td>\n",
       "                        <td id=\"T_37cd0_row4_col1\" class=\"data row4 col1\" >7.00</td>\n",
       "                        <td id=\"T_37cd0_row4_col2\" class=\"data row4 col2\" >56.00</td>\n",
       "            </tr>\n",
       "            <tr>\n",
       "                        <th id=\"T_37cd0_level0_row5\" class=\"row_heading level0 row5\" >5</th>\n",
       "                        <td id=\"T_37cd0_row5_col0\" class=\"data row5 col0\" >Запустить собственную службу доставки, что сократит срок доставки заказов</td>\n",
       "                        <td id=\"T_37cd0_row5_col1\" class=\"data row5 col1\" >2.00</td>\n",
       "                        <td id=\"T_37cd0_row5_col2\" class=\"data row5 col2\" >4.00</td>\n",
       "            </tr>\n",
       "            <tr>\n",
       "                        <th id=\"T_37cd0_level0_row6\" class=\"row_heading level0 row6\" >6</th>\n",
       "                        <td id=\"T_37cd0_row6_col0\" class=\"data row6 col0\" >Добавить страницу отзывов клиентов о магазине, что позволит увеличить количество заказов</td>\n",
       "                        <td id=\"T_37cd0_row6_col1\" class=\"data row6 col1\" >1.33</td>\n",
       "                        <td id=\"T_37cd0_row6_col2\" class=\"data row6 col2\" >4.00</td>\n",
       "            </tr>\n",
       "            <tr>\n",
       "                        <th id=\"T_37cd0_level0_row7\" class=\"row_heading level0 row7\" >7</th>\n",
       "                        <td id=\"T_37cd0_row7_col0\" class=\"data row7 col0\" >Изменить структура категорий, что увеличит конверсию, т.к. пользователи быстрее найдут нужный товар</td>\n",
       "                        <td id=\"T_37cd0_row7_col1\" class=\"data row7 col1\" >1.12</td>\n",
       "                        <td id=\"T_37cd0_row7_col2\" class=\"data row7 col2\" >9.00</td>\n",
       "            </tr>\n",
       "            <tr>\n",
       "                        <th id=\"T_37cd0_level0_row8\" class=\"row_heading level0 row8\" >8</th>\n",
       "                        <td id=\"T_37cd0_row8_col0\" class=\"data row8 col0\" >Изменить цвет фона главной страницы, чтобы увеличить вовлеченность пользователей</td>\n",
       "                        <td id=\"T_37cd0_row8_col1\" class=\"data row8 col1\" >1.00</td>\n",
       "                        <td id=\"T_37cd0_row8_col2\" class=\"data row8 col2\" >3.00</td>\n",
       "            </tr>\n",
       "    </tbody></table>"
      ],
      "text/plain": [
       "<pandas.io.formats.style.Styler at 0x7fb3621592e0>"
      ]
     },
     "metadata": {},
     "output_type": "display_data"
    }
   ],
   "source": [
    "display(hypothesis[['hypothesis', 'ICE', 'RICE']].sort_values(by=['ICE', 'RICE'], ascending=False). \\\n",
    "       reset_index(drop=True).style.\\\n",
    "       format({'ICE' : '{:.2f}', 'RICE' : '{:.2f}'}).\\\n",
    "       bar(subset = ['ICE', 'RICE'],\n",
    "           align='mid',\n",
    "           color=['pink'],\n",
    "           vmax=hypothesis['RICE'].max()).\\\n",
    "        set_properties(**{'text-aling' : 'center'}, subset = ['ICE', 'RICE']))"
   ]
  },
  {
   "cell_type": "markdown",
   "id": "3c1f3c29",
   "metadata": {},
   "source": [
    "По фреймворку ICE наибольшую оценку имели гипотезы 8,0,7 и 11. После применения фреймворка RICE приоритеты изменились на гипотезы 7,2,0 и 6. Это объясняется тем, что в случае фреймворка ICE в отличие от RICE мы не учитывали охват изменений, тогда как это важная составляющая оценки гипотез.\n",
    "\n",
    "В нашем случае наиболее приоритетными гипотезами будут 7, 2, 0 и 6."
   ]
  },
  {
   "cell_type": "markdown",
   "id": "ea90a497",
   "metadata": {},
   "source": [
    "## Проанализируйте A/B-тест"
   ]
  },
  {
   "cell_type": "markdown",
   "id": "f6d1128b",
   "metadata": {},
   "source": [
    "### График кумулятивной выручки по группам"
   ]
  },
  {
   "cell_type": "markdown",
   "id": "df0358ea",
   "metadata": {},
   "source": [
    "Создаем массив уникальных пар значений дат и групп теста."
   ]
  },
  {
   "cell_type": "code",
   "execution_count": 19,
   "id": "a81ac263",
   "metadata": {},
   "outputs": [],
   "source": [
    "datesGroups = orders[['date','group']].drop_duplicates().sort_values(by=['date', 'group'])"
   ]
  },
  {
   "cell_type": "markdown",
   "id": "03080878",
   "metadata": {},
   "source": [
    "Агрегированные кумулятивные по дням данные о заказах:"
   ]
  },
  {
   "cell_type": "code",
   "execution_count": 20,
   "id": "0938e750",
   "metadata": {},
   "outputs": [],
   "source": [
    "ordersAggregated = datesGroups.apply(lambda x: orders[np.logical_and(orders['date'] <= x['date'], orders['group'] == x['group'])]\\\n",
    ".agg({'date' : 'max', 'group' : 'max', 'transaction_id' : 'nunique', 'visitor_id' : 'nunique', 'revenue' : 'sum'}), axis=1)"
   ]
  },
  {
   "cell_type": "markdown",
   "id": "a6b1e8ec",
   "metadata": {},
   "source": [
    "Агрегированные кумулятивные по дням данные о посетителях интернет-магазина:"
   ]
  },
  {
   "cell_type": "code",
   "execution_count": 21,
   "id": "60b1575f",
   "metadata": {},
   "outputs": [],
   "source": [
    "visitorsAggregated = datesGroups.apply(lambda x: visitors[np.logical_and(visitors['date'] <= x['date'], visitors['group'] == x['group'])].agg({'date' : 'max', 'group' : 'max', 'visitors' : 'sum'}), axis=1).sort_values(by=['date','group'])"
   ]
  },
  {
   "cell_type": "markdown",
   "id": "70494ac7",
   "metadata": {},
   "source": [
    "Единая таблица:"
   ]
  },
  {
   "cell_type": "code",
   "execution_count": 22,
   "id": "8a7b5bb4",
   "metadata": {},
   "outputs": [],
   "source": [
    "cumulativeData = ordersAggregated.merge(visitorsAggregated, left_on=['date', 'group'], right_on=['date', 'group'])\n",
    "cumulativeData.columns = ['date', 'group', 'orders', 'buyers', 'revenue', 'visitors']"
   ]
  },
  {
   "cell_type": "code",
   "execution_count": 23,
   "id": "d5362696",
   "metadata": {},
   "outputs": [
    {
     "data": {
      "text/html": [
       "<div>\n",
       "<style scoped>\n",
       "    .dataframe tbody tr th:only-of-type {\n",
       "        vertical-align: middle;\n",
       "    }\n",
       "\n",
       "    .dataframe tbody tr th {\n",
       "        vertical-align: top;\n",
       "    }\n",
       "\n",
       "    .dataframe thead th {\n",
       "        text-align: right;\n",
       "    }\n",
       "</style>\n",
       "<table border=\"1\" class=\"dataframe\">\n",
       "  <thead>\n",
       "    <tr style=\"text-align: right;\">\n",
       "      <th></th>\n",
       "      <th>date</th>\n",
       "      <th>group</th>\n",
       "      <th>orders</th>\n",
       "      <th>buyers</th>\n",
       "      <th>revenue</th>\n",
       "      <th>visitors</th>\n",
       "    </tr>\n",
       "  </thead>\n",
       "  <tbody>\n",
       "    <tr>\n",
       "      <th>0</th>\n",
       "      <td>2019-08-01</td>\n",
       "      <td>A</td>\n",
       "      <td>24</td>\n",
       "      <td>20</td>\n",
       "      <td>148579</td>\n",
       "      <td>719</td>\n",
       "    </tr>\n",
       "    <tr>\n",
       "      <th>1</th>\n",
       "      <td>2019-08-01</td>\n",
       "      <td>B</td>\n",
       "      <td>21</td>\n",
       "      <td>20</td>\n",
       "      <td>101217</td>\n",
       "      <td>713</td>\n",
       "    </tr>\n",
       "    <tr>\n",
       "      <th>2</th>\n",
       "      <td>2019-08-02</td>\n",
       "      <td>A</td>\n",
       "      <td>44</td>\n",
       "      <td>38</td>\n",
       "      <td>242401</td>\n",
       "      <td>1338</td>\n",
       "    </tr>\n",
       "    <tr>\n",
       "      <th>3</th>\n",
       "      <td>2019-08-02</td>\n",
       "      <td>B</td>\n",
       "      <td>45</td>\n",
       "      <td>43</td>\n",
       "      <td>266748</td>\n",
       "      <td>1294</td>\n",
       "    </tr>\n",
       "    <tr>\n",
       "      <th>4</th>\n",
       "      <td>2019-08-03</td>\n",
       "      <td>A</td>\n",
       "      <td>68</td>\n",
       "      <td>62</td>\n",
       "      <td>354874</td>\n",
       "      <td>1845</td>\n",
       "    </tr>\n",
       "  </tbody>\n",
       "</table>\n",
       "</div>"
      ],
      "text/plain": [
       "        date group  orders  buyers  revenue  visitors\n",
       "0 2019-08-01     A      24      20   148579       719\n",
       "1 2019-08-01     B      21      20   101217       713\n",
       "2 2019-08-02     A      44      38   242401      1338\n",
       "3 2019-08-02     B      45      43   266748      1294\n",
       "4 2019-08-03     A      68      62   354874      1845"
      ]
     },
     "execution_count": 23,
     "metadata": {},
     "output_type": "execute_result"
    }
   ],
   "source": [
    "cumulativeData.head(5)"
   ]
  },
  {
   "cell_type": "markdown",
   "id": "951433f8",
   "metadata": {},
   "source": [
    "Разбивка на гпуппы А и В."
   ]
  },
  {
   "cell_type": "code",
   "execution_count": 24,
   "id": "d97a39b6",
   "metadata": {},
   "outputs": [
    {
     "data": {
      "image/png": "[encoded data removed]",
      "text/plain": [
       "<Figure size 720x288 with 1 Axes>"
      ]
     },
     "metadata": {
      "needs_background": "light"
     },
     "output_type": "display_data"
    }
   ],
   "source": [
    "cumulativeDataA = cumulativeData[cumulativeData['group']=='A']\n",
    "cumulativeDataB = cumulativeData[cumulativeData['group']=='B']\n",
    "\n",
    "plt.figure(figsize=(10,4))\n",
    "plt.plot(cumulativeDataA['date'], cumulativeDataA['revenue'], label = 'A')\n",
    "plt.plot(cumulativeDataB['date'], cumulativeDataB['revenue'], label = 'B')\n",
    "plt.ylabel('Выручка')\n",
    "plt.xlabel('Дата')\n",
    "plt.title('Графики кумулятивной выручки по группам A/B')\n",
    "plt.legend()\n",
    "plt.show()"
   ]
  },
  {
   "cell_type": "markdown",
   "id": "6a848045",
   "metadata": {},
   "source": [
    "Выручка почти равномерно увеличивается в течение всего теста. Однако график группы В в одной точке резко растет. Это может сигнализировать о всплесках числа заказов, либо о появлении очень дорогих заказов в выборке. Их нужно будет удалить."
   ]
  },
  {
   "cell_type": "markdown",
   "id": "34bfbf89",
   "metadata": {},
   "source": [
    "### График кумулятивной выручки среднего чека по группам. "
   ]
  },
  {
   "cell_type": "markdown",
   "id": "0f656bc7",
   "metadata": {},
   "source": [
    "Разделим  выручку на число заказов:"
   ]
  },
  {
   "cell_type": "code",
   "execution_count": 25,
   "id": "f6001170",
   "metadata": {},
   "outputs": [
    {
     "data": {
      "image/png": "[encoded data removed]",
      "text/plain": [
       "<Figure size 720x288 with 1 Axes>"
      ]
     },
     "metadata": {
      "needs_background": "light"
     },
     "output_type": "display_data"
    }
   ],
   "source": [
    "plt.figure(figsize=(10,4))\n",
    "plt.plot(cumulativeDataA['date'], cumulativeDataA['revenue']/cumulativeDataA['orders'], label = 'A')\n",
    "plt.plot(cumulativeDataB['date'], cumulativeDataB['revenue']/cumulativeDataB['orders'], label = 'B')\n",
    "plt.title('Графики кумулятивного среднего чека по группам A/B')\n",
    "plt.ylabel('Средний чек')\n",
    "plt.xlabel('Дата')\n",
    "plt.legend()\n",
    "plt.show()"
   ]
  },
  {
   "cell_type": "markdown",
   "id": "789ea548",
   "metadata": {},
   "source": [
    "В группу B попали крупные заказы (резкий всплеск на графике)."
   ]
  },
  {
   "cell_type": "markdown",
   "id": "dbe4f19b",
   "metadata": {},
   "source": [
    "### График относительного изменения кумулятивного среднего чека группы B к группе A. "
   ]
  },
  {
   "cell_type": "code",
   "execution_count": 26,
   "id": "c683d728",
   "metadata": {},
   "outputs": [
    {
     "data": {
      "text/plain": [
       "Text(0.5, 0, 'Дата')"
      ]
     },
     "execution_count": 26,
     "metadata": {},
     "output_type": "execute_result"
    },
    {
     "data": {
      "image/png": "[encoded data removed]",
      "text/plain": [
       "<Figure size 720x288 with 1 Axes>"
      ]
     },
     "metadata": {
      "needs_background": "light"
     },
     "output_type": "display_data"
    }
   ],
   "source": [
    "mergedCumulativeData = cumulativeDataA.merge(cumulativeDataB, left_on='date', right_on='date', how='left', suffixes=['A', 'B']) \n",
    "\n",
    "plt.figure(figsize=(10,4))\n",
    "plt.plot(mergedCumulativeData['date'], (mergedCumulativeData['revenueB']/mergedCumulativeData['ordersB'])/(mergedCumulativeData['revenueA']/mergedCumulativeData['ordersA'])-1)\n",
    "plt.axhline(y=0, color='black', linestyle='--')\n",
    "plt.title('График относительного изменения кумулятивного среднего чека группы B к группе A')\n",
    "plt.xlabel('Дата')"
   ]
  },
  {
   "cell_type": "markdown",
   "id": "f826318a",
   "metadata": {},
   "source": [
    "Колебания слишком резкие, необходимо будет проверить данные на наличие аномальных пользователей"
   ]
  },
  {
   "cell_type": "markdown",
   "id": "4c21e0c3",
   "metadata": {},
   "source": [
    "### График кумулятивной конверсии по группам"
   ]
  },
  {
   "cell_type": "markdown",
   "id": "7abd2e4c",
   "metadata": {},
   "source": [
    "Разделим количество заказов на количество пользователей, совершивших заказ:"
   ]
  },
  {
   "cell_type": "code",
   "execution_count": 27,
   "id": "45815cb3",
   "metadata": {},
   "outputs": [
    {
     "data": {
      "image/png": "[encoded data removed]",
      "text/plain": [
       "<Figure size 720x288 with 1 Axes>"
      ]
     },
     "metadata": {
      "needs_background": "light"
     },
     "output_type": "display_data"
    }
   ],
   "source": [
    "mergedCumulativeData['conversionA'] =  mergedCumulativeData['ordersA'] / mergedCumulativeData['visitorsA'] \n",
    "mergedCumulativeData['conversionB'] =  mergedCumulativeData['ordersB'] / mergedCumulativeData['visitorsB']\n",
    "mergedCumulativeData.head(5)\n",
    "plt.figure(figsize=(10,4))\n",
    "plt.plot(mergedCumulativeData['date'], mergedCumulativeData['conversionA'], label='A')\n",
    "plt.plot(mergedCumulativeData['date'], mergedCumulativeData['conversionB'], label='B')\n",
    "plt.title('График кумулятивной конверсии по группам A/B')\n",
    "plt.xlabel('Дата')\n",
    "plt.ylabel('Конверсия')\n",
    "plt.legend()\n",
    "plt.show()"
   ]
  },
  {
   "cell_type": "markdown",
   "id": "afda92a5",
   "metadata": {},
   "source": [
    "Группа В стабильно показывает конверсию больше, чем А."
   ]
  },
  {
   "cell_type": "markdown",
   "id": "62678cb7",
   "metadata": {},
   "source": [
    "### График относительного изменения кумулятивной конверсии группы B к группе A"
   ]
  },
  {
   "cell_type": "code",
   "execution_count": 28,
   "id": "0d4a1340",
   "metadata": {},
   "outputs": [
    {
     "data": {
      "image/png": "[encoded data removed]",
      "text/plain": [
       "<Figure size 720x288 with 1 Axes>"
      ]
     },
     "metadata": {
      "needs_background": "light"
     },
     "output_type": "display_data"
    }
   ],
   "source": [
    "plt.figure(figsize=(10,4))\n",
    "plt.plot(mergedCumulativeData['date'], ((mergedCumulativeData['conversionB']/mergedCumulativeData['conversionA'])-1))\n",
    "plt.title('График относительного изменения кумулятивной конверсии группы B к группе A')\n",
    "plt.axhline(y=0, color='black', linestyle='--')\n",
    "plt.axhline(y=0.2, color='grey', linestyle='--')\n",
    "plt.xlabel('Дата')\n",
    "plt.show()"
   ]
  },
  {
   "cell_type": "markdown",
   "id": "4f206526",
   "metadata": {},
   "source": [
    "Конверсия в группе B стабильно лучше конверсии в группе A."
   ]
  },
  {
   "cell_type": "markdown",
   "id": "4929a451",
   "metadata": {},
   "source": [
    "### Точечный график стоимостей заказов"
   ]
  },
  {
   "cell_type": "code",
   "execution_count": 29,
   "id": "0e0ad652",
   "metadata": {},
   "outputs": [
    {
     "data": {
      "text/plain": [
       "<matplotlib.collections.PathCollection at 0x7fb3599f6f10>"
      ]
     },
     "execution_count": 29,
     "metadata": {},
     "output_type": "execute_result"
    },
    {
     "data": {
      "image/png": "[encoded data removed]",
      "text/plain": [
       "<Figure size 432x288 with 1 Axes>"
      ]
     },
     "metadata": {
      "needs_background": "light"
     },
     "output_type": "display_data"
    }
   ],
   "source": [
    "x_values = pd.Series(range(0,len(orders['revenue'])))\n",
    "plt.scatter(x_values, orders['revenue']) "
   ]
  },
  {
   "cell_type": "markdown",
   "id": "20237b0b",
   "metadata": {},
   "source": [
    "Есть немного дорогих заказов."
   ]
  },
  {
   "cell_type": "code",
   "execution_count": 30,
   "id": "a18c5056",
   "metadata": {},
   "outputs": [
    {
     "data": {
      "text/plain": [
       "<matplotlib.collections.PathCollection at 0x7fb359968430>"
      ]
     },
     "execution_count": 30,
     "metadata": {},
     "output_type": "execute_result"
    },
    {
     "data": {
      "image/png": "[encoded data removed]",
      "text/plain": [
       "<Figure size 432x288 with 1 Axes>"
      ]
     },
     "metadata": {
      "needs_background": "light"
     },
     "output_type": "display_data"
    }
   ],
   "source": [
    "x_values = pd.Series(range(0,len(orders['revenue'])))\n",
    "plt.axis([0, 1200, 0, 200000])\n",
    "plt.scatter(x_values, orders['revenue']) "
   ]
  },
  {
   "cell_type": "markdown",
   "id": "8d93e1d9",
   "metadata": {},
   "source": [
    "Судя по графикам, большая часть пользователей делает покупки суммой не больше 25-40 т.р"
   ]
  },
  {
   "cell_type": "markdown",
   "id": "7f2ab57d",
   "metadata": {},
   "source": [
    "### 95-й и 99-й перцентили стоимости заказов. Граница для определения аномальных заказов."
   ]
  },
  {
   "cell_type": "code",
   "execution_count": 31,
   "id": "7a6c0696",
   "metadata": {},
   "outputs": [
    {
     "name": "stdout",
     "output_type": "stream",
     "text": [
      "[28000.  58233.2]\n"
     ]
    }
   ],
   "source": [
    "print(np.percentile(orders['revenue'], [ 95, 99])) "
   ]
  },
  {
   "cell_type": "markdown",
   "id": "b8e410c1",
   "metadata": {},
   "source": [
    "Не более 5% заказов дороже 28 000 рублей и не более 1% дороже 58 233.2 рублей."
   ]
  },
  {
   "cell_type": "markdown",
   "id": "23331712",
   "metadata": {},
   "source": [
    "Подсчитаем количество заказов по пользователям и посмотрим на результат:"
   ]
  },
  {
   "cell_type": "code",
   "execution_count": 32,
   "id": "c7ef42dd",
   "metadata": {},
   "outputs": [
    {
     "name": "stdout",
     "output_type": "stream",
     "text": [
      "      visitor_id  orders\n",
      "1023  4256040402      11\n",
      "591   2458001652      11\n",
      "569   2378935119       9\n",
      "487   2038680547       8\n",
      "44     199603092       5\n",
      "744   3062433592       5\n",
      "55     237748145       5\n",
      "917   3803269165       5\n",
      "299   1230306981       5\n",
      "897   3717692402       5\n"
     ]
    }
   ],
   "source": [
    "ordersByUsers = (\n",
    "    orders.groupby('visitor_id', as_index=False)\n",
    "    .agg({'transaction_id': 'nunique'})\n",
    ")\n",
    "\n",
    "ordersByUsers.columns = ['visitor_id', 'orders']\n",
    "\n",
    "print(ordersByUsers.sort_values(by='orders', ascending=False).head(10)) \n"
   ]
  },
  {
   "cell_type": "markdown",
   "id": "95a28738",
   "metadata": {},
   "source": [
    "Есть пользователи с 8, 9 и 11 заказами."
   ]
  },
  {
   "cell_type": "markdown",
   "id": "ccaa45a5",
   "metadata": {},
   "source": [
    "Построим гистрограмму распределения количества заказов на одного пользователя."
   ]
  },
  {
   "cell_type": "code",
   "execution_count": 33,
   "id": "d3d3cc1c",
   "metadata": {},
   "outputs": [
    {
     "data": {
      "text/plain": [
       "(array([937.,  64.,  17.,   3.,   6.,   0.,   0.,   1.,   1.,   2.]),\n",
       " array([ 1.,  2.,  3.,  4.,  5.,  6.,  7.,  8.,  9., 10., 11.]),\n",
       " <BarContainer object of 10 artists>)"
      ]
     },
     "execution_count": 33,
     "metadata": {},
     "output_type": "execute_result"
    },
    {
     "data": {
      "image/png": "[encoded data removed]",
      "text/plain": [
       "<Figure size 432x288 with 1 Axes>"
      ]
     },
     "metadata": {
      "needs_background": "light"
     },
     "output_type": "display_data"
    }
   ],
   "source": [
    "import matplotlib.pyplot as plt \n",
    "plt.hist(ordersByUsers['orders']) "
   ]
  },
  {
   "cell_type": "markdown",
   "id": "eb5fd0a1",
   "metadata": {},
   "source": [
    "Большинство покупателей заказывали только один раз"
   ]
  },
  {
   "cell_type": "markdown",
   "id": "27fad3f2",
   "metadata": {},
   "source": [
    "Построим точечную диаграмму числа заказов на одного пользователя:"
   ]
  },
  {
   "cell_type": "code",
   "execution_count": 34,
   "id": "892b5c32",
   "metadata": {},
   "outputs": [
    {
     "data": {
      "text/plain": [
       "<matplotlib.collections.PathCollection at 0x7fb3598b6ee0>"
      ]
     },
     "execution_count": 34,
     "metadata": {},
     "output_type": "execute_result"
    },
    {
     "data": {
      "image/png": "[encoded data removed]",
      "text/plain": [
       "<Figure size 432x288 with 1 Axes>"
      ]
     },
     "metadata": {
      "needs_background": "light"
     },
     "output_type": "display_data"
    }
   ],
   "source": [
    "x_values = pd.Series(range(0,len(ordersByUsers)))\n",
    "\n",
    "plt.scatter(x_values, ordersByUsers['orders']) "
   ]
  },
  {
   "cell_type": "markdown",
   "id": "f1cd18ec",
   "metadata": {},
   "source": [
    "Много пользователей с 2-4 заказами. Посчитаем выборочные перцентили количества заказов на одного пользователя:"
   ]
  },
  {
   "cell_type": "code",
   "execution_count": 35,
   "id": "91ee2fa7",
   "metadata": {},
   "outputs": [
    {
     "name": "stdout",
     "output_type": "stream",
     "text": [
      "[2. 4.]\n"
     ]
    }
   ],
   "source": [
    "print(np.percentile(ordersByUsers['orders'], [95, 99])) "
   ]
  },
  {
   "cell_type": "markdown",
   "id": "89deca0e",
   "metadata": {},
   "source": [
    "Не более 5% пользователей оформляли больше чем 2 заказа. И 1% пользователей заказывали более 4 раз.Разумно выбрать 3 заказа на одного пользователя за нижнюю границу числа заказов, и отсеять аномальных пользователей по ней."
   ]
  },
  {
   "cell_type": "markdown",
   "id": "79a76d03",
   "metadata": {},
   "source": [
    "### Статистическая значимость различий в конверсии между группами по «сырым» данным"
   ]
  },
  {
   "cell_type": "markdown",
   "id": "5a09ee43",
   "metadata": {},
   "source": [
    "Сформулируем гипотезы.\n",
    "* H0 - различий в конверсии между группами нет. \n",
    "* H1 - различия в конверсии между группами есть."
   ]
  },
  {
   "cell_type": "markdown",
   "id": "d289eb75",
   "metadata": {},
   "source": [
    "Для пользователей, которые заказывали хотя бы 1 раз, укажем число совершённых заказов."
   ]
  },
  {
   "cell_type": "code",
   "execution_count": 48,
   "id": "b260cdba",
   "metadata": {},
   "outputs": [],
   "source": [
    "visitorsADaily = visitors[visitors['group'] == 'A'][['date', 'visitors']]\n",
    "visitorsADaily.columns = ['date', 'visitorsPerDateA']\n",
    "\n",
    "visitorsBDaily = visitors[visitors['group'] == 'B'][['date', 'visitors']]\n",
    "visitorsBDaily.columns = ['date', 'visitorsPerDateB']\n",
    "\n",
    "data = (\n",
    "    visitorsADaily.merge(\n",
    "        visitorsBDaily, left_on='date', right_on='date', how='left'\n",
    "    )\n",
    ")"
   ]
  },
  {
   "cell_type": "code",
   "execution_count": 49,
   "id": "f793ad95",
   "metadata": {},
   "outputs": [
    {
     "data": {
      "text/html": [
       "<div>\n",
       "<style scoped>\n",
       "    .dataframe tbody tr th:only-of-type {\n",
       "        vertical-align: middle;\n",
       "    }\n",
       "\n",
       "    .dataframe tbody tr th {\n",
       "        vertical-align: top;\n",
       "    }\n",
       "\n",
       "    .dataframe thead th {\n",
       "        text-align: right;\n",
       "    }\n",
       "</style>\n",
       "<table border=\"1\" class=\"dataframe\">\n",
       "  <thead>\n",
       "    <tr style=\"text-align: right;\">\n",
       "      <th></th>\n",
       "      <th>date</th>\n",
       "      <th>visitorsPerDateA</th>\n",
       "      <th>visitorsPerDateB</th>\n",
       "    </tr>\n",
       "  </thead>\n",
       "  <tbody>\n",
       "    <tr>\n",
       "      <th>0</th>\n",
       "      <td>2019-08-01</td>\n",
       "      <td>719</td>\n",
       "      <td>713</td>\n",
       "    </tr>\n",
       "    <tr>\n",
       "      <th>1</th>\n",
       "      <td>2019-08-02</td>\n",
       "      <td>619</td>\n",
       "      <td>581</td>\n",
       "    </tr>\n",
       "    <tr>\n",
       "      <th>2</th>\n",
       "      <td>2019-08-03</td>\n",
       "      <td>507</td>\n",
       "      <td>509</td>\n",
       "    </tr>\n",
       "    <tr>\n",
       "      <th>3</th>\n",
       "      <td>2019-08-04</td>\n",
       "      <td>717</td>\n",
       "      <td>770</td>\n",
       "    </tr>\n",
       "    <tr>\n",
       "      <th>4</th>\n",
       "      <td>2019-08-05</td>\n",
       "      <td>756</td>\n",
       "      <td>707</td>\n",
       "    </tr>\n",
       "  </tbody>\n",
       "</table>\n",
       "</div>"
      ],
      "text/plain": [
       "        date  visitorsPerDateA  visitorsPerDateB\n",
       "0 2019-08-01               719               713\n",
       "1 2019-08-02               619               581\n",
       "2 2019-08-03               507               509\n",
       "3 2019-08-04               717               770\n",
       "4 2019-08-05               756               707"
      ]
     },
     "execution_count": 49,
     "metadata": {},
     "output_type": "execute_result"
    }
   ],
   "source": [
    "data.head(5)"
   ]
  },
  {
   "cell_type": "markdown",
   "id": "864e5f18",
   "metadata": {},
   "source": [
    "Объявим переменные sampleA и sampleB, в которых пользователям из разных групп будет соответствовать количество заказов. Тем, кто ничего не заказал, будут соответствовать нули."
   ]
  },
  {
   "cell_type": "code",
   "execution_count": 51,
   "id": "721c2a9f",
   "metadata": {},
   "outputs": [
    {
     "name": "stdout",
     "output_type": "stream",
     "text": [
      "P-value: 0.017\n",
      "Относительный прирост конверсии группы B по отношению к группе A: 0.138\n"
     ]
    }
   ],
   "source": [
    "ordersByUsersA = (\n",
    "    orders[orders['group'] == 'A']\n",
    "    .groupby('visitor_id', as_index=False)\n",
    "    .agg({'transaction_id': pd.Series.nunique})\n",
    ")\n",
    "ordersByUsersA.columns = ['visitor_id', 'orders']\n",
    "\n",
    "ordersByUsersB = (\n",
    "    orders[orders['group'] == 'B']\n",
    "    .groupby('visitor_id', as_index=False)\n",
    "    .agg({'transaction_id': pd.Series.nunique})\n",
    ")\n",
    "ordersByUsersB.columns = ['visitor_id', 'orders'] \n",
    "\n",
    "sampleA = pd.concat([ordersByUsersA['orders'],pd.Series(0, index=np.arange(data['visitorsPerDateA'].sum() - len(ordersByUsersA['orders'])), name='orders')],axis=0)\n",
    "\n",
    "sampleB = pd.concat([ordersByUsersB['orders'],pd.Series(0, index=np.arange(data['visitorsPerDateB'].sum() - len(ordersByUsersB['orders'])), name='orders')],axis=0)\n",
    "\n",
    "print('P-value: {0:.3f}'.format(stats.mannwhitneyu(sampleA, sampleB)[1]))\n",
    "\n",
    "print(\"Относительный прирост конверсии группы B по отношению к группе A: {0:.3f}\".format(sampleB.mean() / sampleA.mean() - 1))"
   ]
  },
  {
   "cell_type": "markdown",
   "id": "b5ef7594",
   "metadata": {},
   "source": [
    "p-value меньше 0.05, значит нудевую гипотезу отвергаем. В конверсии  группами есть статистически значимые различия. Относительный прирост группы В к конверсии группы А равен 13.8%. "
   ]
  },
  {
   "cell_type": "markdown",
   "id": "56c4db8b",
   "metadata": {},
   "source": [
    "###\tСтатистическая значимость различий в среднем чеке заказа между группами по «сырым» данным"
   ]
  },
  {
   "cell_type": "markdown",
   "id": "3dcfecb1",
   "metadata": {},
   "source": [
    "* H0 -  различий в среднем чеке между группами нет\n",
    "* H1 альтернативная гипотеза: различия в среднем чеке между группами есть."
   ]
  },
  {
   "cell_type": "code",
   "execution_count": 52,
   "id": "fe0c720e",
   "metadata": {},
   "outputs": [
    {
     "name": "stdout",
     "output_type": "stream",
     "text": [
      "P-value: 0.729\n",
      "Относительное изменение среднего чека в группе B по отношению группы A: 0.259\n"
     ]
    }
   ],
   "source": [
    "print('P-value: {0:.3f}'.format(stats.mannwhitneyu(orders[orders['group']=='A']['revenue'], orders[orders['group']=='B']['revenue'])[1]))\n",
    "print('Относительное изменение среднего чека в группе B по отношению группы A: {0:.3f}'.format(orders[orders['group']=='B']['revenue'].mean()/orders[orders['group']=='A']['revenue'].mean()-1)) "
   ]
  },
  {
   "cell_type": "markdown",
   "id": "e315ade5",
   "metadata": {},
   "source": [
    "P-value значительно больше 0.05. Значит, причин отвергать нулевую гипотезу и считать, что в среднем чеке есть различия, нет. Относительное различие среднего чека между сегментами 25.9 % это много."
   ]
  },
  {
   "cell_type": "markdown",
   "id": "06fd160d",
   "metadata": {},
   "source": [
    "### Статистическая значимость различий в конверсии между группами по «очищенным» данным"
   ]
  },
  {
   "cell_type": "markdown",
   "id": "145b4af2",
   "metadata": {},
   "source": [
    "Примем за аномальных пользователей тех, кто совершил больше 3 заказо или заказ на сумму больше 30 тыс руб."
   ]
  },
  {
   "cell_type": "code",
   "execution_count": 54,
   "id": "6fae2798",
   "metadata": {},
   "outputs": [],
   "source": [
    "max_orders = 3\n",
    "max_revenue = 30000"
   ]
  },
  {
   "cell_type": "code",
   "execution_count": 55,
   "id": "31cbb75a",
   "metadata": {},
   "outputs": [
    {
     "name": "stdout",
     "output_type": "stream",
     "text": [
      "1099    148427295\n",
      "18      199603092\n",
      "928     204675465\n",
      "23      237748145\n",
      "684     358944393\n",
      "Name: visitor_id, dtype: int64\n",
      "57\n"
     ]
    }
   ],
   "source": [
    "usersWithManyOrders = pd.concat([ordersByUsersA[ordersByUsersA['orders'] > max_orders]['visitor_id'],ordersByUsersB[ordersByUsersB['orders'] > 3]['visitor_id'],],axis=0)\n",
    "usersWithExpensiveOrders = orders[orders['revenue'] > max_revenue]['visitor_id']\n",
    "abnormalUsers = (pd.concat([usersWithManyOrders, usersWithExpensiveOrders], axis=0)\n",
    "    .drop_duplicates()\n",
    "    .sort_values()\n",
    ")\n",
    "print(abnormalUsers.head(5))\n",
    "print(abnormalUsers.shape[0]) "
   ]
  },
  {
   "cell_type": "markdown",
   "id": "3a3e34f7",
   "metadata": {},
   "source": [
    "Всего 57 аномальных пользователей."
   ]
  },
  {
   "cell_type": "markdown",
   "id": "38cdeee2",
   "metadata": {},
   "source": [
    "Посчитаем статистическую значимость различий в конверсии между группами теста по очищенным данным. "
   ]
  },
  {
   "cell_type": "code",
   "execution_count": 40,
   "id": "4f965016",
   "metadata": {},
   "outputs": [
    {
     "name": "stdout",
     "output_type": "stream",
     "text": [
      "P-value: 0.018\n",
      "Относительный прирост конверсии группы B по отношению к группе A после очистки данных:0.148\n"
     ]
    }
   ],
   "source": [
    "sampleAFiltered = pd.concat([ordersByUsersA[np.logical_not(ordersByUsersA['visitor_id'].isin(abnormalUsers))]['orders'],\n",
    "        pd.Series(0,index=np.arange(data['visitorsPerDateA'].sum() - len(ordersByUsersA['orders'])),name='orders',),],axis=0)\n",
    "\n",
    "sampleBFiltered = pd.concat([ordersByUsersB[np.logical_not(ordersByUsersB['visitor_id'].isin(abnormalUsers))]['orders'],\n",
    "        pd.Series(0, index=np.arange(data['visitorsPerDateB'].sum() - len(ordersByUsersB['orders'])), name='orders')], axis=0)\n",
    "print('P-value: {0:.3f}'.format(stats.mannwhitneyu(sampleAFiltered, sampleBFiltered)[1]))\n",
    "print('Относительный прирост конверсии группы B по отношению к группе A после очистки данных:{0:.3f}'.format(sampleBFiltered.mean()/sampleAFiltered.mean()-1))"
   ]
  },
  {
   "cell_type": "markdown",
   "id": "a259d766",
   "metadata": {},
   "source": [
    "Как и в случае с сырыми данными, статистическая значимость достигнута. Сегмент В лучше сегмента А."
   ]
  },
  {
   "cell_type": "markdown",
   "id": "7d85d1eb",
   "metadata": {},
   "source": [
    "### Статистическая значимость различий в среднем чеке заказа между группами по «очищенным» данным. "
   ]
  },
  {
   "cell_type": "code",
   "execution_count": 56,
   "id": "7fd278ee",
   "metadata": {},
   "outputs": [
    {
     "name": "stdout",
     "output_type": "stream",
     "text": [
      "P-value: 0.958\n",
      "-0.020\n"
     ]
    }
   ],
   "source": [
    "print(\n",
    "    'P-value: {0:.3f}'.format(\n",
    "        stats.mannwhitneyu(\n",
    "            orders[np.logical_and(orders['group'] == 'A', np.logical_not(orders['visitor_id'].isin(abnormalUsers)))]['revenue'],\n",
    "            orders[np.logical_and(orders['group'] == 'B', np.logical_not(orders['visitor_id'].isin(abnormalUsers)))\n",
    "            ]['revenue'],\n",
    "        )[1]\n",
    "    ))\n",
    "\n",
    "print(\n",
    "    \"{0:.3f}\".format(\n",
    "        orders[np.logical_and(orders['group'] == 'B',\n",
    "                np.logical_not(orders['visitor_id'].isin(abnormalUsers)))]['revenue'].mean()\n",
    "        / orders[\n",
    "            np.logical_and(orders['group'] == 'A', np.logical_not(orders['visitor_id'].isin(abnormalUsers)))]['revenue'].mean()- 1)) "
   ]
  },
  {
   "cell_type": "markdown",
   "id": "52b8a0c0",
   "metadata": {},
   "source": [
    "P-value увеличился, относительное изменение среднего чека в группе B по отношению группы A после очистки данных стало минимально."
   ]
  },
  {
   "cell_type": "markdown",
   "id": "92ea2247",
   "metadata": {},
   "source": [
    "Исходя из обнаруженных фактов, тест следует остановить и признать победу группы B. Продолжать смысла нет, потому что есть статистически значимое различие по конверсии между группами как по сырым данным, так и после фильтрации аномалий.\n",
    "\n",
    "График различия среднего чека колеблется: он-то и позволил вам найти аномалии. Сделать из этого графика определённые выводы нельзя. После очистки разница среднего чека стала минимальна."
   ]
  }
 ],
 "metadata": {
  "ExecuteTimeLog": [
   {
    "duration": 1267,
    "start_time": "2022-05-28T10:44:05.220Z"
   },
   {
    "duration": 262,
    "start_time": "2022-05-28T10:44:06.489Z"
   },
   {
    "duration": 17,
    "start_time": "2022-05-28T10:44:06.755Z"
   },
   {
    "duration": 8,
    "start_time": "2022-05-28T10:44:06.774Z"
   },
   {
    "duration": 18,
    "start_time": "2022-05-28T10:44:06.785Z"
   },
   {
    "duration": 13,
    "start_time": "2022-05-28T10:44:06.805Z"
   },
   {
    "duration": 14,
    "start_time": "2022-05-28T10:44:06.820Z"
   },
   {
    "duration": 43,
    "start_time": "2022-05-28T10:44:06.836Z"
   },
   {
    "duration": 12,
    "start_time": "2022-05-28T10:44:06.881Z"
   },
   {
    "duration": 6,
    "start_time": "2022-05-28T10:44:06.897Z"
   },
   {
    "duration": 15,
    "start_time": "2022-05-28T10:44:06.905Z"
   },
   {
    "duration": 49,
    "start_time": "2022-05-28T10:44:06.922Z"
   },
   {
    "duration": 8,
    "start_time": "2022-05-28T10:44:06.973Z"
   },
   {
    "duration": 12,
    "start_time": "2022-05-28T10:44:06.983Z"
   },
   {
    "duration": 8,
    "start_time": "2022-05-28T10:44:06.997Z"
   },
   {
    "duration": 14,
    "start_time": "2022-05-28T10:44:07.006Z"
   },
   {
    "duration": 14,
    "start_time": "2022-05-28T10:44:07.023Z"
   },
   {
    "duration": 87,
    "start_time": "2022-05-28T10:44:07.038Z"
   },
   {
    "duration": 10,
    "start_time": "2022-05-28T10:44:07.130Z"
   },
   {
    "duration": 216,
    "start_time": "2022-05-28T10:44:07.142Z"
   },
   {
    "duration": 149,
    "start_time": "2022-05-28T10:44:07.365Z"
   },
   {
    "duration": 8,
    "start_time": "2022-05-28T10:44:07.516Z"
   },
   {
    "duration": 60,
    "start_time": "2022-05-28T10:44:07.525Z"
   },
   {
    "duration": 485,
    "start_time": "2022-05-28T10:44:07.587Z"
   },
   {
    "duration": 217,
    "start_time": "2022-05-28T10:44:08.075Z"
   },
   {
    "duration": 396,
    "start_time": "2022-05-28T10:44:08.295Z"
   },
   {
    "duration": 239,
    "start_time": "2022-05-28T10:44:08.694Z"
   },
   {
    "duration": 350,
    "start_time": "2022-05-28T10:44:08.939Z"
   },
   {
    "duration": 213,
    "start_time": "2022-05-28T10:44:09.294Z"
   },
   {
    "duration": 6,
    "start_time": "2022-05-28T10:44:09.509Z"
   },
   {
    "duration": 50,
    "start_time": "2022-05-28T10:44:09.517Z"
   },
   {
    "duration": 179,
    "start_time": "2022-05-28T10:44:09.570Z"
   },
   {
    "duration": 179,
    "start_time": "2022-05-28T10:44:09.755Z"
   },
   {
    "duration": 10,
    "start_time": "2022-05-28T10:44:09.940Z"
   },
   {
    "duration": 354,
    "start_time": "2022-05-28T10:44:09.953Z"
   },
   {
    "duration": 243,
    "start_time": "2022-05-28T10:44:10.309Z"
   },
   {
    "duration": 17,
    "start_time": "2022-05-28T10:44:10.554Z"
   },
   {
    "duration": 268,
    "start_time": "2022-05-28T10:44:10.573Z"
   },
   {
    "duration": 314,
    "start_time": "2022-05-28T10:44:10.843Z"
   },
   {
    "duration": 14,
    "start_time": "2022-05-28T10:44:11.159Z"
   },
   {
    "duration": 16,
    "start_time": "2022-05-28T10:44:11.176Z"
   },
   {
    "duration": 73,
    "start_time": "2022-05-28T10:44:11.193Z"
   },
   {
    "duration": 17,
    "start_time": "2022-05-28T10:44:11.269Z"
   },
   {
    "duration": 34,
    "start_time": "2022-05-30T10:33:04.351Z"
   },
   {
    "duration": 1065,
    "start_time": "2022-05-30T10:33:18.255Z"
   },
   {
    "duration": 162,
    "start_time": "2022-05-30T10:33:19.322Z"
   },
   {
    "duration": 12,
    "start_time": "2022-05-30T10:33:19.486Z"
   },
   {
    "duration": 3,
    "start_time": "2022-05-30T10:33:19.500Z"
   },
   {
    "duration": 14,
    "start_time": "2022-05-30T10:33:19.504Z"
   },
   {
    "duration": 19,
    "start_time": "2022-05-30T10:33:19.520Z"
   },
   {
    "duration": 15,
    "start_time": "2022-05-30T10:33:19.541Z"
   },
   {
    "duration": 19,
    "start_time": "2022-05-30T10:33:19.558Z"
   },
   {
    "duration": 13,
    "start_time": "2022-05-30T10:33:19.578Z"
   },
   {
    "duration": 6,
    "start_time": "2022-05-30T10:33:19.594Z"
   },
   {
    "duration": 21,
    "start_time": "2022-05-30T10:33:19.601Z"
   },
   {
    "duration": 15,
    "start_time": "2022-05-30T10:33:19.623Z"
   },
   {
    "duration": 13,
    "start_time": "2022-05-30T10:33:19.639Z"
   },
   {
    "duration": 9,
    "start_time": "2022-05-30T10:33:19.654Z"
   },
   {
    "duration": 7,
    "start_time": "2022-05-30T10:33:19.665Z"
   },
   {
    "duration": 11,
    "start_time": "2022-05-30T10:33:19.673Z"
   },
   {
    "duration": 17,
    "start_time": "2022-05-30T10:33:19.685Z"
   },
   {
    "duration": 56,
    "start_time": "2022-05-30T10:33:19.704Z"
   },
   {
    "duration": 7,
    "start_time": "2022-05-30T10:33:19.761Z"
   },
   {
    "duration": 178,
    "start_time": "2022-05-30T10:33:19.770Z"
   },
   {
    "duration": 122,
    "start_time": "2022-05-30T10:33:19.950Z"
   },
   {
    "duration": 6,
    "start_time": "2022-05-30T10:33:20.074Z"
   },
   {
    "duration": 22,
    "start_time": "2022-05-30T10:33:20.081Z"
   },
   {
    "duration": 395,
    "start_time": "2022-05-30T10:33:20.104Z"
   },
   {
    "duration": 210,
    "start_time": "2022-05-30T10:33:20.501Z"
   },
   {
    "duration": 310,
    "start_time": "2022-05-30T10:33:20.712Z"
   },
   {
    "duration": 280,
    "start_time": "2022-05-30T10:33:21.024Z"
   },
   {
    "duration": 313,
    "start_time": "2022-05-30T10:33:21.308Z"
   },
   {
    "duration": 148,
    "start_time": "2022-05-30T10:33:21.623Z"
   },
   {
    "duration": 5,
    "start_time": "2022-05-30T10:33:21.772Z"
   },
   {
    "duration": 0,
    "start_time": "2022-05-30T10:33:21.778Z"
   },
   {
    "duration": 0,
    "start_time": "2022-05-30T10:33:21.780Z"
   },
   {
    "duration": 0,
    "start_time": "2022-05-30T10:33:21.781Z"
   },
   {
    "duration": 0,
    "start_time": "2022-05-30T10:33:21.782Z"
   },
   {
    "duration": 0,
    "start_time": "2022-05-30T10:33:21.783Z"
   },
   {
    "duration": 0,
    "start_time": "2022-05-30T10:33:21.802Z"
   },
   {
    "duration": 0,
    "start_time": "2022-05-30T10:33:21.804Z"
   },
   {
    "duration": 0,
    "start_time": "2022-05-30T10:33:21.805Z"
   },
   {
    "duration": 0,
    "start_time": "2022-05-30T10:33:21.806Z"
   },
   {
    "duration": 0,
    "start_time": "2022-05-30T10:33:21.807Z"
   },
   {
    "duration": 0,
    "start_time": "2022-05-30T10:33:21.808Z"
   },
   {
    "duration": 0,
    "start_time": "2022-05-30T10:33:21.809Z"
   },
   {
    "duration": 0,
    "start_time": "2022-05-30T10:33:21.810Z"
   },
   {
    "duration": 0,
    "start_time": "2022-05-30T10:33:21.811Z"
   },
   {
    "duration": 3,
    "start_time": "2022-05-30T10:34:09.819Z"
   },
   {
    "duration": 111,
    "start_time": "2022-05-30T10:34:13.309Z"
   },
   {
    "duration": 135,
    "start_time": "2022-05-30T10:35:15.535Z"
   },
   {
    "duration": 1100,
    "start_time": "2022-05-30T10:39:17.218Z"
   },
   {
    "duration": 358,
    "start_time": "2022-05-30T10:39:18.320Z"
   },
   {
    "duration": 11,
    "start_time": "2022-05-30T10:39:18.680Z"
   },
   {
    "duration": 7,
    "start_time": "2022-05-30T10:39:18.693Z"
   },
   {
    "duration": 18,
    "start_time": "2022-05-30T10:39:18.702Z"
   },
   {
    "duration": 9,
    "start_time": "2022-05-30T10:39:18.722Z"
   },
   {
    "duration": 4,
    "start_time": "2022-05-30T10:39:18.733Z"
   },
   {
    "duration": 9,
    "start_time": "2022-05-30T10:39:18.738Z"
   },
   {
    "duration": 12,
    "start_time": "2022-05-30T10:39:18.749Z"
   },
   {
    "duration": 6,
    "start_time": "2022-05-30T10:39:18.764Z"
   },
   {
    "duration": 35,
    "start_time": "2022-05-30T10:39:18.772Z"
   },
   {
    "duration": 14,
    "start_time": "2022-05-30T10:39:18.809Z"
   },
   {
    "duration": 6,
    "start_time": "2022-05-30T10:39:18.824Z"
   },
   {
    "duration": 6,
    "start_time": "2022-05-30T10:39:18.832Z"
   },
   {
    "duration": 6,
    "start_time": "2022-05-30T10:39:18.840Z"
   },
   {
    "duration": 13,
    "start_time": "2022-05-30T10:39:18.847Z"
   },
   {
    "duration": 9,
    "start_time": "2022-05-30T10:39:18.862Z"
   },
   {
    "duration": 56,
    "start_time": "2022-05-30T10:39:18.902Z"
   },
   {
    "duration": 8,
    "start_time": "2022-05-30T10:39:18.960Z"
   },
   {
    "duration": 192,
    "start_time": "2022-05-30T10:39:18.970Z"
   },
   {
    "duration": 138,
    "start_time": "2022-05-30T10:39:19.164Z"
   },
   {
    "duration": 7,
    "start_time": "2022-05-30T10:39:19.304Z"
   },
   {
    "duration": 11,
    "start_time": "2022-05-30T10:39:19.313Z"
   },
   {
    "duration": 394,
    "start_time": "2022-05-30T10:39:19.325Z"
   },
   {
    "duration": 221,
    "start_time": "2022-05-30T10:39:19.721Z"
   },
   {
    "duration": 297,
    "start_time": "2022-05-30T10:39:19.944Z"
   },
   {
    "duration": 226,
    "start_time": "2022-05-30T10:39:20.243Z"
   },
   {
    "duration": 313,
    "start_time": "2022-05-30T10:39:20.472Z"
   },
   {
    "duration": 146,
    "start_time": "2022-05-30T10:39:20.786Z"
   },
   {
    "duration": 160,
    "start_time": "2022-05-30T10:39:20.934Z"
   },
   {
    "duration": 9,
    "start_time": "2022-05-30T10:39:21.096Z"
   },
   {
    "duration": 21,
    "start_time": "2022-05-30T10:39:21.107Z"
   },
   {
    "duration": 151,
    "start_time": "2022-05-30T10:39:21.130Z"
   },
   {
    "duration": 152,
    "start_time": "2022-05-30T10:39:21.283Z"
   },
   {
    "duration": 5,
    "start_time": "2022-05-30T10:39:21.437Z"
   },
   {
    "duration": 244,
    "start_time": "2022-05-30T10:39:21.444Z"
   },
   {
    "duration": 142,
    "start_time": "2022-05-30T10:39:21.690Z"
   },
   {
    "duration": 12,
    "start_time": "2022-05-30T10:39:21.834Z"
   },
   {
    "duration": 156,
    "start_time": "2022-05-30T10:39:21.848Z"
   },
   {
    "duration": 175,
    "start_time": "2022-05-30T10:39:22.005Z"
   },
   {
    "duration": 23,
    "start_time": "2022-05-30T10:39:22.182Z"
   },
   {
    "duration": 10,
    "start_time": "2022-05-30T10:39:22.206Z"
   },
   {
    "duration": 35,
    "start_time": "2022-05-30T10:39:22.218Z"
   },
   {
    "duration": 14,
    "start_time": "2022-05-30T10:39:22.255Z"
   },
   {
    "duration": 36,
    "start_time": "2022-05-30T10:52:04.132Z"
   },
   {
    "duration": 9,
    "start_time": "2022-05-30T10:52:13.256Z"
   },
   {
    "duration": 1146,
    "start_time": "2022-05-30T10:52:19.202Z"
   },
   {
    "duration": 475,
    "start_time": "2022-05-30T10:52:20.350Z"
   },
   {
    "duration": 12,
    "start_time": "2022-05-30T10:52:20.826Z"
   },
   {
    "duration": 8,
    "start_time": "2022-05-30T10:52:20.840Z"
   },
   {
    "duration": 15,
    "start_time": "2022-05-30T10:52:20.849Z"
   },
   {
    "duration": 11,
    "start_time": "2022-05-30T10:52:20.866Z"
   },
   {
    "duration": 10,
    "start_time": "2022-05-30T10:52:20.878Z"
   },
   {
    "duration": 11,
    "start_time": "2022-05-30T10:52:20.890Z"
   },
   {
    "duration": 15,
    "start_time": "2022-05-30T10:52:20.903Z"
   },
   {
    "duration": 5,
    "start_time": "2022-05-30T10:52:20.921Z"
   },
   {
    "duration": 12,
    "start_time": "2022-05-30T10:52:20.927Z"
   },
   {
    "duration": 16,
    "start_time": "2022-05-30T10:52:20.941Z"
   },
   {
    "duration": 8,
    "start_time": "2022-05-30T10:52:20.959Z"
   },
   {
    "duration": 6,
    "start_time": "2022-05-30T10:52:20.969Z"
   },
   {
    "duration": 9,
    "start_time": "2022-05-30T10:52:20.977Z"
   },
   {
    "duration": 23,
    "start_time": "2022-05-30T10:52:20.987Z"
   },
   {
    "duration": 9,
    "start_time": "2022-05-30T10:52:21.011Z"
   },
   {
    "duration": 55,
    "start_time": "2022-05-30T10:52:21.021Z"
   },
   {
    "duration": 9,
    "start_time": "2022-05-30T10:52:21.101Z"
   },
   {
    "duration": 226,
    "start_time": "2022-05-30T10:52:21.112Z"
   },
   {
    "duration": 153,
    "start_time": "2022-05-30T10:52:21.340Z"
   },
   {
    "duration": 9,
    "start_time": "2022-05-30T10:52:21.495Z"
   },
   {
    "duration": 18,
    "start_time": "2022-05-30T10:52:21.506Z"
   },
   {
    "duration": 386,
    "start_time": "2022-05-30T10:52:21.526Z"
   },
   {
    "duration": 213,
    "start_time": "2022-05-30T10:52:21.913Z"
   },
   {
    "duration": 316,
    "start_time": "2022-05-30T10:52:22.128Z"
   },
   {
    "duration": 208,
    "start_time": "2022-05-30T10:52:22.446Z"
   },
   {
    "duration": 272,
    "start_time": "2022-05-30T10:52:22.658Z"
   },
   {
    "duration": 139,
    "start_time": "2022-05-30T10:52:22.932Z"
   },
   {
    "duration": 143,
    "start_time": "2022-05-30T10:52:23.073Z"
   },
   {
    "duration": 5,
    "start_time": "2022-05-30T10:52:23.218Z"
   },
   {
    "duration": 11,
    "start_time": "2022-05-30T10:52:23.224Z"
   },
   {
    "duration": 146,
    "start_time": "2022-05-30T10:52:23.237Z"
   },
   {
    "duration": 143,
    "start_time": "2022-05-30T10:52:23.384Z"
   },
   {
    "duration": 4,
    "start_time": "2022-05-30T10:52:23.529Z"
   },
   {
    "duration": 115,
    "start_time": "2022-05-30T10:52:23.534Z"
   },
   {
    "duration": 0,
    "start_time": "2022-05-30T10:52:23.651Z"
   },
   {
    "duration": 0,
    "start_time": "2022-05-30T10:52:23.652Z"
   },
   {
    "duration": 0,
    "start_time": "2022-05-30T10:52:23.653Z"
   },
   {
    "duration": 0,
    "start_time": "2022-05-30T10:52:23.654Z"
   },
   {
    "duration": 0,
    "start_time": "2022-05-30T10:52:23.655Z"
   },
   {
    "duration": 0,
    "start_time": "2022-05-30T10:52:23.656Z"
   },
   {
    "duration": 0,
    "start_time": "2022-05-30T10:52:23.657Z"
   },
   {
    "duration": 0,
    "start_time": "2022-05-30T10:52:23.658Z"
   },
   {
    "duration": 13,
    "start_time": "2022-05-30T10:52:43.330Z"
   },
   {
    "duration": 9,
    "start_time": "2022-05-30T10:54:26.927Z"
   },
   {
    "duration": 1045,
    "start_time": "2022-05-30T10:54:32.757Z"
   },
   {
    "duration": 165,
    "start_time": "2022-05-30T10:54:33.804Z"
   },
   {
    "duration": 11,
    "start_time": "2022-05-30T10:54:33.971Z"
   },
   {
    "duration": 4,
    "start_time": "2022-05-30T10:54:33.984Z"
   },
   {
    "duration": 12,
    "start_time": "2022-05-30T10:54:33.989Z"
   },
   {
    "duration": 11,
    "start_time": "2022-05-30T10:54:34.002Z"
   },
   {
    "duration": 4,
    "start_time": "2022-05-30T10:54:34.015Z"
   },
   {
    "duration": 9,
    "start_time": "2022-05-30T10:54:34.020Z"
   },
   {
    "duration": 11,
    "start_time": "2022-05-30T10:54:34.031Z"
   },
   {
    "duration": 6,
    "start_time": "2022-05-30T10:54:34.044Z"
   },
   {
    "duration": 13,
    "start_time": "2022-05-30T10:54:34.052Z"
   },
   {
    "duration": 14,
    "start_time": "2022-05-30T10:54:34.066Z"
   },
   {
    "duration": 25,
    "start_time": "2022-05-30T10:54:34.081Z"
   },
   {
    "duration": 8,
    "start_time": "2022-05-30T10:54:34.108Z"
   },
   {
    "duration": 11,
    "start_time": "2022-05-30T10:54:34.117Z"
   },
   {
    "duration": 12,
    "start_time": "2022-05-30T10:54:34.130Z"
   },
   {
    "duration": 9,
    "start_time": "2022-05-30T10:54:34.143Z"
   },
   {
    "duration": 73,
    "start_time": "2022-05-30T10:54:34.153Z"
   },
   {
    "duration": 6,
    "start_time": "2022-05-30T10:54:34.228Z"
   },
   {
    "duration": 176,
    "start_time": "2022-05-30T10:54:34.236Z"
   },
   {
    "duration": 137,
    "start_time": "2022-05-30T10:54:34.413Z"
   },
   {
    "duration": 14,
    "start_time": "2022-05-30T10:54:34.552Z"
   },
   {
    "duration": 11,
    "start_time": "2022-05-30T10:54:34.568Z"
   },
   {
    "duration": 423,
    "start_time": "2022-05-30T10:54:34.581Z"
   },
   {
    "duration": 205,
    "start_time": "2022-05-30T10:54:35.006Z"
   },
   {
    "duration": 319,
    "start_time": "2022-05-30T10:54:35.212Z"
   },
   {
    "duration": 240,
    "start_time": "2022-05-30T10:54:35.533Z"
   },
   {
    "duration": 357,
    "start_time": "2022-05-30T10:54:35.777Z"
   },
   {
    "duration": 138,
    "start_time": "2022-05-30T10:54:36.136Z"
   },
   {
    "duration": 140,
    "start_time": "2022-05-30T10:54:36.276Z"
   },
   {
    "duration": 4,
    "start_time": "2022-05-30T10:54:36.418Z"
   },
   {
    "duration": 11,
    "start_time": "2022-05-30T10:54:36.424Z"
   },
   {
    "duration": 139,
    "start_time": "2022-05-30T10:54:36.436Z"
   },
   {
    "duration": 134,
    "start_time": "2022-05-30T10:54:36.577Z"
   },
   {
    "duration": 5,
    "start_time": "2022-05-30T10:54:36.713Z"
   },
   {
    "duration": 12,
    "start_time": "2022-05-30T10:54:36.719Z"
   },
   {
    "duration": 159,
    "start_time": "2022-05-30T10:54:36.733Z"
   },
   {
    "duration": 10,
    "start_time": "2022-05-30T10:54:36.894Z"
   },
   {
    "duration": 146,
    "start_time": "2022-05-30T10:54:36.906Z"
   },
   {
    "duration": 162,
    "start_time": "2022-05-30T10:54:37.054Z"
   },
   {
    "duration": 11,
    "start_time": "2022-05-30T10:54:37.217Z"
   },
   {
    "duration": 8,
    "start_time": "2022-05-30T10:54:37.229Z"
   },
   {
    "duration": 33,
    "start_time": "2022-05-30T10:54:37.238Z"
   },
   {
    "duration": 34,
    "start_time": "2022-05-30T10:54:37.273Z"
   },
   {
    "duration": 15,
    "start_time": "2022-05-30T10:55:15.627Z"
   },
   {
    "duration": 1117,
    "start_time": "2022-05-30T11:00:13.500Z"
   },
   {
    "duration": 169,
    "start_time": "2022-05-30T11:00:14.619Z"
   },
   {
    "duration": 11,
    "start_time": "2022-05-30T11:00:14.790Z"
   },
   {
    "duration": 4,
    "start_time": "2022-05-30T11:00:14.803Z"
   },
   {
    "duration": 16,
    "start_time": "2022-05-30T11:00:14.808Z"
   },
   {
    "duration": 11,
    "start_time": "2022-05-30T11:00:14.826Z"
   },
   {
    "duration": 3,
    "start_time": "2022-05-30T11:00:14.839Z"
   },
   {
    "duration": 10,
    "start_time": "2022-05-30T11:00:14.844Z"
   },
   {
    "duration": 12,
    "start_time": "2022-05-30T11:00:14.856Z"
   },
   {
    "duration": 32,
    "start_time": "2022-05-30T11:00:14.870Z"
   },
   {
    "duration": 11,
    "start_time": "2022-05-30T11:00:14.904Z"
   },
   {
    "duration": 17,
    "start_time": "2022-05-30T11:00:14.917Z"
   },
   {
    "duration": 11,
    "start_time": "2022-05-30T11:00:14.935Z"
   },
   {
    "duration": 12,
    "start_time": "2022-05-30T11:00:14.947Z"
   },
   {
    "duration": 5,
    "start_time": "2022-05-30T11:00:14.960Z"
   },
   {
    "duration": 14,
    "start_time": "2022-05-30T11:00:14.967Z"
   },
   {
    "duration": 28,
    "start_time": "2022-05-30T11:00:14.983Z"
   },
   {
    "duration": 78,
    "start_time": "2022-05-30T11:00:15.013Z"
   },
   {
    "duration": 8,
    "start_time": "2022-05-30T11:00:15.092Z"
   },
   {
    "duration": 183,
    "start_time": "2022-05-30T11:00:15.103Z"
   },
   {
    "duration": 121,
    "start_time": "2022-05-30T11:00:15.288Z"
   },
   {
    "duration": 7,
    "start_time": "2022-05-30T11:00:15.411Z"
   },
   {
    "duration": 13,
    "start_time": "2022-05-30T11:00:15.420Z"
   },
   {
    "duration": 405,
    "start_time": "2022-05-30T11:00:15.434Z"
   },
   {
    "duration": 229,
    "start_time": "2022-05-30T11:00:15.841Z"
   },
   {
    "duration": 338,
    "start_time": "2022-05-30T11:00:16.072Z"
   },
   {
    "duration": 215,
    "start_time": "2022-05-30T11:00:16.412Z"
   },
   {
    "duration": 328,
    "start_time": "2022-05-30T11:00:16.630Z"
   },
   {
    "duration": 165,
    "start_time": "2022-05-30T11:00:16.960Z"
   },
   {
    "duration": 156,
    "start_time": "2022-05-30T11:00:17.127Z"
   },
   {
    "duration": 4,
    "start_time": "2022-05-30T11:00:17.285Z"
   },
   {
    "duration": 16,
    "start_time": "2022-05-30T11:00:17.291Z"
   },
   {
    "duration": 131,
    "start_time": "2022-05-30T11:00:17.309Z"
   },
   {
    "duration": 123,
    "start_time": "2022-05-30T11:00:17.441Z"
   },
   {
    "duration": 3,
    "start_time": "2022-05-30T11:00:17.566Z"
   },
   {
    "duration": 234,
    "start_time": "2022-05-30T11:00:17.572Z"
   },
   {
    "duration": 175,
    "start_time": "2022-05-30T11:00:17.808Z"
   },
   {
    "duration": 24,
    "start_time": "2022-05-30T11:00:17.985Z"
   },
   {
    "duration": 10,
    "start_time": "2022-05-30T11:00:18.011Z"
   },
   {
    "duration": 35,
    "start_time": "2022-05-30T11:00:18.023Z"
   },
   {
    "duration": 46,
    "start_time": "2022-05-30T11:00:18.060Z"
   },
   {
    "duration": 11,
    "start_time": "2022-05-30T11:01:26.757Z"
   },
   {
    "duration": 167,
    "start_time": "2022-05-30T11:01:37.902Z"
   },
   {
    "duration": 126,
    "start_time": "2022-05-30T11:04:30.046Z"
   },
   {
    "duration": 9,
    "start_time": "2022-05-30T11:04:33.403Z"
   },
   {
    "duration": 39,
    "start_time": "2022-05-30T11:05:12.132Z"
   },
   {
    "duration": 11,
    "start_time": "2022-05-30T11:05:13.268Z"
   },
   {
    "duration": 10,
    "start_time": "2022-05-30T11:06:08.214Z"
   },
   {
    "duration": 8,
    "start_time": "2022-05-30T11:06:08.861Z"
   },
   {
    "duration": 43,
    "start_time": "2022-05-30T11:06:41.757Z"
   },
   {
    "duration": 214,
    "start_time": "2022-05-30T11:07:15.759Z"
   },
   {
    "duration": 10,
    "start_time": "2022-05-30T11:07:27.358Z"
   },
   {
    "duration": 118,
    "start_time": "2022-05-30T12:01:53.832Z"
   },
   {
    "duration": 3,
    "start_time": "2022-05-30T12:01:57.616Z"
   },
   {
    "duration": 10,
    "start_time": "2022-05-30T12:01:58.239Z"
   },
   {
    "duration": 13,
    "start_time": "2022-05-30T12:06:42.953Z"
   }
  ],
  "kernelspec": {
   "display_name": "Python 3",
   "language": "python",
   "name": "python3"
  },
  "language_info": {
   "codemirror_mode": {
    "name": "ipython",
    "version": 3
   },
   "file_extension": ".py",
   "mimetype": "text/x-python",
   "name": "python",
   "nbconvert_exporter": "python",
   "pygments_lexer": "ipython3",
   "version": "3.8.8"
  },
  "toc": {
   "base_numbering": 1,
   "nav_menu": {},
   "number_sections": false,
   "sideBar": true,
   "skip_h1_title": false,
   "title_cell": "Table of Contents",
   "title_sidebar": "Contents",
   "toc_cell": true,
   "toc_position": {
    "height": "calc(100% - 180px)",
    "left": "10px",
    "top": "150px",
    "width": "165px"
   },
   "toc_section_display": true,
   "toc_window_display": true
  }
 },
 "nbformat": 4,
 "nbformat_minor": 5
}
